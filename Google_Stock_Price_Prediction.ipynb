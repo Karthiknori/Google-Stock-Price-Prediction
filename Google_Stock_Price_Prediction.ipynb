{
  "nbformat": 4,
  "nbformat_minor": 0,
  "metadata": {
    "colab": {
      "name": "Google-Stock-Price-Prediction.ipynb",
      "provenance": [],
      "toc_visible": true,
      "include_colab_link": true
    },
    "kernelspec": {
      "name": "python3",
      "display_name": "Python 3"
    }
  },
  "cells": [
    {
      "cell_type": "markdown",
      "metadata": {
        "id": "view-in-github",
        "colab_type": "text"
      },
      "source": [
        "<a href=\"https://colab.research.google.com/github/Karthiknori/Google-Stock-Price-Prediction/blob/master/Google_Stock_Price_Prediction.ipynb\" target=\"_parent\"><img src=\"https://colab.research.google.com/assets/colab-badge.svg\" alt=\"Open In Colab\"/></a>"
      ]
    },
    {
      "cell_type": "code",
      "metadata": {
        "id": "MCpK61nnL0Tu",
        "colab_type": "code",
        "outputId": "8d33ed07-2638-49ab-ec7a-e839d7731074",
        "colab": {
          "base_uri": "https://localhost:8080/",
          "height": 394
        }
      },
      "source": [
        "pip install tensorflow-gpu==2.0.0-rc0"
      ],
      "execution_count": 1,
      "outputs": [
        {
          "output_type": "stream",
          "text": [
            "Requirement already satisfied: tensorflow-gpu==2.0.0-rc0 in /usr/local/lib/python3.6/dist-packages (2.0.0rc0)\n",
            "Requirement already satisfied: grpcio>=1.8.6 in /usr/local/lib/python3.6/dist-packages (from tensorflow-gpu==2.0.0-rc0) (1.15.0)\n",
            "Requirement already satisfied: wrapt>=1.11.1 in /usr/local/lib/python3.6/dist-packages (from tensorflow-gpu==2.0.0-rc0) (1.11.2)\n",
            "Requirement already satisfied: opt-einsum>=2.3.2 in /usr/local/lib/python3.6/dist-packages (from tensorflow-gpu==2.0.0-rc0) (3.1.0)\n",
            "Requirement already satisfied: keras-applications>=1.0.8 in /usr/local/lib/python3.6/dist-packages (from tensorflow-gpu==2.0.0-rc0) (1.0.8)\n",
            "Requirement already satisfied: six>=1.10.0 in /usr/local/lib/python3.6/dist-packages (from tensorflow-gpu==2.0.0-rc0) (1.12.0)\n",
            "Requirement already satisfied: astor>=0.6.0 in /usr/local/lib/python3.6/dist-packages (from tensorflow-gpu==2.0.0-rc0) (0.8.0)\n",
            "Requirement already satisfied: protobuf>=3.6.1 in /usr/local/lib/python3.6/dist-packages (from tensorflow-gpu==2.0.0-rc0) (3.7.1)\n",
            "Requirement already satisfied: tf-estimator-nightly<1.14.0.dev2019080602,>=1.14.0.dev2019080601 in /usr/local/lib/python3.6/dist-packages (from tensorflow-gpu==2.0.0-rc0) (1.14.0.dev2019080601)\n",
            "Requirement already satisfied: termcolor>=1.1.0 in /usr/local/lib/python3.6/dist-packages (from tensorflow-gpu==2.0.0-rc0) (1.1.0)\n",
            "Requirement already satisfied: numpy<2.0,>=1.16.0 in /usr/local/lib/python3.6/dist-packages (from tensorflow-gpu==2.0.0-rc0) (1.16.5)\n",
            "Requirement already satisfied: keras-preprocessing>=1.0.5 in /usr/local/lib/python3.6/dist-packages (from tensorflow-gpu==2.0.0-rc0) (1.1.0)\n",
            "Requirement already satisfied: absl-py>=0.7.0 in /usr/local/lib/python3.6/dist-packages (from tensorflow-gpu==2.0.0-rc0) (0.8.0)\n",
            "Requirement already satisfied: google-pasta>=0.1.6 in /usr/local/lib/python3.6/dist-packages (from tensorflow-gpu==2.0.0-rc0) (0.1.7)\n",
            "Requirement already satisfied: tb-nightly<1.15.0a20190807,>=1.15.0a20190806 in /usr/local/lib/python3.6/dist-packages (from tensorflow-gpu==2.0.0-rc0) (1.15.0a20190806)\n",
            "Requirement already satisfied: gast>=0.2.0 in /usr/local/lib/python3.6/dist-packages (from tensorflow-gpu==2.0.0-rc0) (0.2.2)\n",
            "Requirement already satisfied: wheel>=0.26 in /usr/local/lib/python3.6/dist-packages (from tensorflow-gpu==2.0.0-rc0) (0.33.6)\n",
            "Requirement already satisfied: h5py in /usr/local/lib/python3.6/dist-packages (from keras-applications>=1.0.8->tensorflow-gpu==2.0.0-rc0) (2.8.0)\n",
            "Requirement already satisfied: setuptools in /usr/local/lib/python3.6/dist-packages (from protobuf>=3.6.1->tensorflow-gpu==2.0.0-rc0) (41.2.0)\n",
            "Requirement already satisfied: markdown>=2.6.8 in /usr/local/lib/python3.6/dist-packages (from tb-nightly<1.15.0a20190807,>=1.15.0a20190806->tensorflow-gpu==2.0.0-rc0) (3.1.1)\n",
            "Requirement already satisfied: werkzeug>=0.11.15 in /usr/local/lib/python3.6/dist-packages (from tb-nightly<1.15.0a20190807,>=1.15.0a20190806->tensorflow-gpu==2.0.0-rc0) (0.16.0)\n"
          ],
          "name": "stdout"
        }
      ]
    },
    {
      "cell_type": "code",
      "metadata": {
        "id": "jU_eW_vpNWB2",
        "colab_type": "code",
        "colab": {}
      },
      "source": [
        "import numpy as np\n",
        "import matplotlib.pyplot as plt\n",
        "import pandas as pd\n",
        "from sklearn.preprocessing import MinMaxScaler"
      ],
      "execution_count": 0,
      "outputs": []
    },
    {
      "cell_type": "code",
      "metadata": {
        "id": "cUdHSQD7NWAn",
        "colab_type": "code",
        "outputId": "4ff25d37-f42e-4e48-d254-77032e04b52c",
        "colab": {
          "base_uri": "https://localhost:8080/",
          "height": 204
        }
      },
      "source": [
        "data = pd.read_csv('GOOG.csv', date_parser = True)\n",
        "data.tail()"
      ],
      "execution_count": 3,
      "outputs": [
        {
          "output_type": "execute_result",
          "data": {
            "text/html": [
              "<div>\n",
              "<style scoped>\n",
              "    .dataframe tbody tr th:only-of-type {\n",
              "        vertical-align: middle;\n",
              "    }\n",
              "\n",
              "    .dataframe tbody tr th {\n",
              "        vertical-align: top;\n",
              "    }\n",
              "\n",
              "    .dataframe thead th {\n",
              "        text-align: right;\n",
              "    }\n",
              "</style>\n",
              "<table border=\"1\" class=\"dataframe\">\n",
              "  <thead>\n",
              "    <tr style=\"text-align: right;\">\n",
              "      <th></th>\n",
              "      <th>Date</th>\n",
              "      <th>Open</th>\n",
              "      <th>High</th>\n",
              "      <th>Low</th>\n",
              "      <th>Close</th>\n",
              "      <th>Adj Close</th>\n",
              "      <th>Volume</th>\n",
              "    </tr>\n",
              "  </thead>\n",
              "  <tbody>\n",
              "    <tr>\n",
              "      <th>3810</th>\n",
              "      <td>2019-10-08</td>\n",
              "      <td>1197.589966</td>\n",
              "      <td>1206.079956</td>\n",
              "      <td>1189.010010</td>\n",
              "      <td>1189.130005</td>\n",
              "      <td>1189.130005</td>\n",
              "      <td>1039300</td>\n",
              "    </tr>\n",
              "    <tr>\n",
              "      <th>3811</th>\n",
              "      <td>2019-10-09</td>\n",
              "      <td>1199.349976</td>\n",
              "      <td>1208.349976</td>\n",
              "      <td>1197.630005</td>\n",
              "      <td>1202.310059</td>\n",
              "      <td>1202.310059</td>\n",
              "      <td>867700</td>\n",
              "    </tr>\n",
              "    <tr>\n",
              "      <th>3812</th>\n",
              "      <td>2019-10-10</td>\n",
              "      <td>1198.579956</td>\n",
              "      <td>1215.000000</td>\n",
              "      <td>1197.339966</td>\n",
              "      <td>1208.670044</td>\n",
              "      <td>1208.670044</td>\n",
              "      <td>846600</td>\n",
              "    </tr>\n",
              "    <tr>\n",
              "      <th>3813</th>\n",
              "      <td>2019-10-11</td>\n",
              "      <td>1222.209961</td>\n",
              "      <td>1228.390015</td>\n",
              "      <td>1213.739990</td>\n",
              "      <td>1215.449951</td>\n",
              "      <td>1215.449951</td>\n",
              "      <td>1272700</td>\n",
              "    </tr>\n",
              "    <tr>\n",
              "      <th>3814</th>\n",
              "      <td>2019-10-14</td>\n",
              "      <td>1212.339966</td>\n",
              "      <td>1226.329956</td>\n",
              "      <td>1211.760010</td>\n",
              "      <td>1217.140015</td>\n",
              "      <td>1217.140015</td>\n",
              "      <td>867500</td>\n",
              "    </tr>\n",
              "  </tbody>\n",
              "</table>\n",
              "</div>"
            ],
            "text/plain": [
              "            Date         Open         High  ...        Close    Adj Close   Volume\n",
              "3810  2019-10-08  1197.589966  1206.079956  ...  1189.130005  1189.130005  1039300\n",
              "3811  2019-10-09  1199.349976  1208.349976  ...  1202.310059  1202.310059   867700\n",
              "3812  2019-10-10  1198.579956  1215.000000  ...  1208.670044  1208.670044   846600\n",
              "3813  2019-10-11  1222.209961  1228.390015  ...  1215.449951  1215.449951  1272700\n",
              "3814  2019-10-14  1212.339966  1226.329956  ...  1217.140015  1217.140015   867500\n",
              "\n",
              "[5 rows x 7 columns]"
            ]
          },
          "metadata": {
            "tags": []
          },
          "execution_count": 3
        }
      ]
    },
    {
      "cell_type": "code",
      "metadata": {
        "id": "37twAK0JELqI",
        "colab_type": "code",
        "colab": {}
      },
      "source": [
        ""
      ],
      "execution_count": 0,
      "outputs": []
    },
    {
      "cell_type": "code",
      "metadata": {
        "id": "3LdDM03rNV-G",
        "colab_type": "code",
        "colab": {}
      },
      "source": [
        "data_training = data[data['Date']<'2019-01-01'].copy()\n",
        "data_test = data[data['Date']>='2019-01-01'].copy()"
      ],
      "execution_count": 0,
      "outputs": []
    },
    {
      "cell_type": "code",
      "metadata": {
        "id": "e4FpK80WNV63",
        "colab_type": "code",
        "colab": {}
      },
      "source": [
        "training_data = data_training.drop(['Date', 'Adj Close'], axis = 1)"
      ],
      "execution_count": 0,
      "outputs": []
    },
    {
      "cell_type": "code",
      "metadata": {
        "id": "fXM-uJmBNV36",
        "colab_type": "code",
        "outputId": "5c8dd635-3018-4b06-ae83-7af91acb690e",
        "colab": {
          "base_uri": "https://localhost:8080/",
          "height": 238
        }
      },
      "source": [
        "\n",
        "\n",
        "\n",
        "\n",
        "\n",
        "\n",
        "\n",
        "\n",
        "\n",
        "\n",
        "\n",
        "scaler = MinMaxScaler()\n",
        "training_data = scaler.fit_transform(training_data)\n",
        "training_data"
      ],
      "execution_count": 6,
      "outputs": [
        {
          "output_type": "execute_result",
          "data": {
            "text/plain": [
              "array([[3.30294890e-04, 9.44785459e-04, 0.00000000e+00, 1.34908021e-04,\n",
              "        5.43577404e-01],\n",
              "       [7.42148227e-04, 2.98909923e-03, 1.88269054e-03, 3.39307537e-03,\n",
              "        2.77885613e-01],\n",
              "       [4.71386886e-03, 4.78092896e-03, 5.42828241e-03, 3.83867225e-03,\n",
              "        2.22150736e-01],\n",
              "       ...,\n",
              "       [7.92197108e-01, 8.11970141e-01, 7.90196475e-01, 8.15799920e-01,\n",
              "        2.54672037e-02],\n",
              "       [8.18777193e-01, 8.21510648e-01, 8.20249255e-01, 8.10219301e-01,\n",
              "        1.70463908e-02],\n",
              "       [8.19874096e-01, 8.19172449e-01, 8.12332341e-01, 8.09012935e-01,\n",
              "        1.79975186e-02]])"
            ]
          },
          "metadata": {
            "tags": []
          },
          "execution_count": 6
        }
      ]
    },
    {
      "cell_type": "markdown",
      "metadata": {
        "id": "kKFjNePBOZ7d",
        "colab_type": "text"
      },
      "source": [
        "create RNN with 60 timesteps, i.e. look 60 previous time steps"
      ]
    },
    {
      "cell_type": "code",
      "metadata": {
        "id": "Sddgk5LhOdG1",
        "colab_type": "code",
        "colab": {}
      },
      "source": [
        "X_train = []\n",
        "y_train = []"
      ],
      "execution_count": 0,
      "outputs": []
    },
    {
      "cell_type": "code",
      "metadata": {
        "id": "Ysx21SAWOfDy",
        "colab_type": "code",
        "colab": {}
      },
      "source": [
        "for i in range(60, training_data.shape[0]):\n",
        "    X_train.append(training_data[i-60:i])\n",
        "    y_train.append(training_data[i, 0])"
      ],
      "execution_count": 0,
      "outputs": []
    },
    {
      "cell_type": "code",
      "metadata": {
        "id": "JUIyOtv6Ohab",
        "colab_type": "code",
        "colab": {}
      },
      "source": [
        "X_train, y_train = np.array(X_train), np.array(y_train)"
      ],
      "execution_count": 0,
      "outputs": []
    },
    {
      "cell_type": "code",
      "metadata": {
        "id": "qBzc-_9dOjN9",
        "colab_type": "code",
        "outputId": "e00518ab-5e73-48c6-b69c-ffb6ba0e198e",
        "colab": {
          "base_uri": "https://localhost:8080/",
          "height": 34
        }
      },
      "source": [
        "X_train.shape , y_train.shape"
      ],
      "execution_count": 10,
      "outputs": [
        {
          "output_type": "execute_result",
          "data": {
            "text/plain": [
              "((3557, 60, 5), (3557,))"
            ]
          },
          "metadata": {
            "tags": []
          },
          "execution_count": 10
        }
      ]
    },
    {
      "cell_type": "markdown",
      "metadata": {
        "id": "do8KRfeqOn91",
        "colab_type": "text"
      },
      "source": [
        "## Building LSTM Model"
      ]
    },
    {
      "cell_type": "code",
      "metadata": {
        "id": "ZUlOcXlAOx7Q",
        "colab_type": "code",
        "colab": {}
      },
      "source": [
        "# import tensorflow\n",
        "from tensorflow.keras import Sequential\n",
        "from tensorflow.keras.layers import Dense, LSTM, Dropout"
      ],
      "execution_count": 0,
      "outputs": []
    },
    {
      "cell_type": "code",
      "metadata": {
        "id": "lCrRQgb1O9Cr",
        "colab_type": "code",
        "colab": {}
      },
      "source": [
        "regressor = Sequential()\n",
        "\n",
        "regressor.add(LSTM(units = 60, activation = 'relu', return_sequences = True, input_shape = (X_train.shape[1], 5)))\n",
        "regressor.add(Dropout(0.2))\n",
        "\n",
        "regressor.add(LSTM(units = 60, activation = 'relu', return_sequences = True))\n",
        "regressor.add(Dropout(0.2))\n",
        "\n",
        "regressor.add(LSTM(units = 80, activation = 'relu', return_sequences = True))\n",
        "regressor.add(Dropout(0.2))\n",
        "\n",
        "regressor.add(LSTM(units = 120, activation = 'relu'))\n",
        "regressor.add(Dropout(0.2))\n",
        "\n",
        "regressor.add(Dense(units = 1))"
      ],
      "execution_count": 0,
      "outputs": []
    },
    {
      "cell_type": "code",
      "metadata": {
        "id": "B4x8LaSlPCll",
        "colab_type": "code",
        "outputId": "40c8781d-2815-421d-aa23-cf71d23b96e6",
        "colab": {
          "base_uri": "https://localhost:8080/",
          "height": 459
        }
      },
      "source": [
        "regressor.summary()"
      ],
      "execution_count": 13,
      "outputs": [
        {
          "output_type": "stream",
          "text": [
            "Model: \"sequential\"\n",
            "_________________________________________________________________\n",
            "Layer (type)                 Output Shape              Param #   \n",
            "=================================================================\n",
            "lstm (LSTM)                  (None, 60, 60)            15840     \n",
            "_________________________________________________________________\n",
            "dropout (Dropout)            (None, 60, 60)            0         \n",
            "_________________________________________________________________\n",
            "lstm_1 (LSTM)                (None, 60, 60)            29040     \n",
            "_________________________________________________________________\n",
            "dropout_1 (Dropout)          (None, 60, 60)            0         \n",
            "_________________________________________________________________\n",
            "lstm_2 (LSTM)                (None, 60, 80)            45120     \n",
            "_________________________________________________________________\n",
            "dropout_2 (Dropout)          (None, 60, 80)            0         \n",
            "_________________________________________________________________\n",
            "lstm_3 (LSTM)                (None, 120)               96480     \n",
            "_________________________________________________________________\n",
            "dropout_3 (Dropout)          (None, 120)               0         \n",
            "_________________________________________________________________\n",
            "dense (Dense)                (None, 1)                 121       \n",
            "=================================================================\n",
            "Total params: 186,601\n",
            "Trainable params: 186,601\n",
            "Non-trainable params: 0\n",
            "_________________________________________________________________\n"
          ],
          "name": "stdout"
        }
      ]
    },
    {
      "cell_type": "code",
      "metadata": {
        "id": "CkLkzh32PETx",
        "colab_type": "code",
        "colab": {}
      },
      "source": [
        "regressor.compile(optimizer='adam', loss = 'mean_squared_error')"
      ],
      "execution_count": 0,
      "outputs": []
    },
    {
      "cell_type": "code",
      "metadata": {
        "id": "9ZXu_appPGd5",
        "colab_type": "code",
        "outputId": "469afa78-7551-414b-9f2f-d4de41b40d4f",
        "colab": {
          "base_uri": "https://localhost:8080/",
          "height": 1000
        }
      },
      "source": [
        "regressor.fit(X_train, y_train, epochs=100, batch_size=32)"
      ],
      "execution_count": 15,
      "outputs": [
        {
          "output_type": "stream",
          "text": [
            "Train on 3557 samples\n",
            "Epoch 1/100\n",
            "3557/3557 [==============================] - 28s 8ms/sample - loss: 0.0094\n",
            "Epoch 2/100\n",
            "3557/3557 [==============================] - 23s 7ms/sample - loss: 0.0018\n",
            "Epoch 3/100\n",
            "3557/3557 [==============================] - 23s 7ms/sample - loss: 0.0020\n",
            "Epoch 4/100\n",
            "3557/3557 [==============================] - 23s 7ms/sample - loss: 0.0015\n",
            "Epoch 5/100\n",
            "3557/3557 [==============================] - 23s 7ms/sample - loss: 0.0017\n",
            "Epoch 6/100\n",
            "3557/3557 [==============================] - 23s 7ms/sample - loss: 0.0013\n",
            "Epoch 7/100\n",
            "3557/3557 [==============================] - 23s 6ms/sample - loss: 0.0015\n",
            "Epoch 8/100\n",
            "3557/3557 [==============================] - 23s 7ms/sample - loss: 0.0012\n",
            "Epoch 9/100\n",
            "3557/3557 [==============================] - 23s 6ms/sample - loss: 0.0020\n",
            "Epoch 10/100\n",
            "3557/3557 [==============================] - 23s 7ms/sample - loss: 0.0012\n",
            "Epoch 11/100\n",
            "3557/3557 [==============================] - 23s 7ms/sample - loss: 0.0013\n",
            "Epoch 12/100\n",
            "3557/3557 [==============================] - 23s 6ms/sample - loss: 0.0011\n",
            "Epoch 13/100\n",
            "3557/3557 [==============================] - 23s 7ms/sample - loss: 0.0011\n",
            "Epoch 14/100\n",
            "3557/3557 [==============================] - 23s 6ms/sample - loss: 0.0012\n",
            "Epoch 15/100\n",
            "3557/3557 [==============================] - 23s 7ms/sample - loss: 0.0011\n",
            "Epoch 16/100\n",
            "3557/3557 [==============================] - 24s 7ms/sample - loss: 0.0010\n",
            "Epoch 17/100\n",
            "3557/3557 [==============================] - 23s 7ms/sample - loss: 0.0011\n",
            "Epoch 18/100\n",
            "3557/3557 [==============================] - 24s 7ms/sample - loss: 0.0010\n",
            "Epoch 19/100\n",
            "3557/3557 [==============================] - 23s 7ms/sample - loss: 8.9262e-04\n",
            "Epoch 20/100\n",
            "3557/3557 [==============================] - 23s 7ms/sample - loss: 9.0439e-04\n",
            "Epoch 21/100\n",
            "3557/3557 [==============================] - 23s 7ms/sample - loss: 8.5531e-04\n",
            "Epoch 22/100\n",
            "3557/3557 [==============================] - 23s 6ms/sample - loss: 9.5084e-04\n",
            "Epoch 23/100\n",
            "3557/3557 [==============================] - 24s 7ms/sample - loss: 7.8948e-04\n",
            "Epoch 24/100\n",
            "3557/3557 [==============================] - 23s 7ms/sample - loss: 8.7494e-04\n",
            "Epoch 25/100\n",
            "3557/3557 [==============================] - 23s 7ms/sample - loss: 7.7034e-04\n",
            "Epoch 26/100\n",
            "3557/3557 [==============================] - 24s 7ms/sample - loss: 7.9717e-04\n",
            "Epoch 27/100\n",
            "3557/3557 [==============================] - 23s 7ms/sample - loss: 7.9287e-04\n",
            "Epoch 28/100\n",
            "3557/3557 [==============================] - 24s 7ms/sample - loss: 7.7295e-04\n",
            "Epoch 29/100\n",
            "3557/3557 [==============================] - 24s 7ms/sample - loss: 7.6436e-04\n",
            "Epoch 30/100\n",
            "3557/3557 [==============================] - 24s 7ms/sample - loss: 7.6088e-04\n",
            "Epoch 31/100\n",
            "3557/3557 [==============================] - 24s 7ms/sample - loss: 8.5109e-04\n",
            "Epoch 32/100\n",
            "3557/3557 [==============================] - 24s 7ms/sample - loss: 7.2834e-04\n",
            "Epoch 33/100\n",
            "3557/3557 [==============================] - 24s 7ms/sample - loss: 6.9603e-04\n",
            "Epoch 34/100\n",
            "3557/3557 [==============================] - 24s 7ms/sample - loss: 7.1792e-04\n",
            "Epoch 35/100\n",
            "3557/3557 [==============================] - 24s 7ms/sample - loss: 6.9525e-04\n",
            "Epoch 36/100\n",
            "3557/3557 [==============================] - 24s 7ms/sample - loss: 7.1371e-04\n",
            "Epoch 37/100\n",
            "3557/3557 [==============================] - 23s 7ms/sample - loss: 6.8035e-04\n",
            "Epoch 38/100\n",
            "3557/3557 [==============================] - 24s 7ms/sample - loss: 7.5331e-04\n",
            "Epoch 39/100\n",
            "3557/3557 [==============================] - 24s 7ms/sample - loss: 6.8378e-04\n",
            "Epoch 40/100\n",
            "3557/3557 [==============================] - 23s 7ms/sample - loss: 6.7574e-04\n",
            "Epoch 41/100\n",
            "3557/3557 [==============================] - 23s 7ms/sample - loss: 6.5659e-04\n",
            "Epoch 42/100\n",
            "3557/3557 [==============================] - 23s 6ms/sample - loss: 6.7107e-04\n",
            "Epoch 43/100\n",
            "3557/3557 [==============================] - 23s 7ms/sample - loss: 6.5342e-04\n",
            "Epoch 44/100\n",
            "3557/3557 [==============================] - 23s 7ms/sample - loss: 6.7767e-04\n",
            "Epoch 45/100\n",
            "3557/3557 [==============================] - 23s 6ms/sample - loss: 6.0232e-04\n",
            "Epoch 46/100\n",
            "3557/3557 [==============================] - 24s 7ms/sample - loss: 6.8991e-04\n",
            "Epoch 47/100\n",
            "3557/3557 [==============================] - 24s 7ms/sample - loss: 6.6509e-04\n",
            "Epoch 48/100\n",
            "3557/3557 [==============================] - 24s 7ms/sample - loss: 6.9791e-04\n",
            "Epoch 49/100\n",
            "3557/3557 [==============================] - 23s 7ms/sample - loss: 5.8950e-04\n",
            "Epoch 50/100\n",
            "3557/3557 [==============================] - 23s 7ms/sample - loss: 6.4430e-04\n",
            "Epoch 51/100\n",
            "3557/3557 [==============================] - 23s 7ms/sample - loss: 6.2942e-04\n",
            "Epoch 52/100\n",
            "3557/3557 [==============================] - 23s 7ms/sample - loss: 6.5975e-04\n",
            "Epoch 53/100\n",
            "3557/3557 [==============================] - 23s 7ms/sample - loss: 6.5314e-04\n",
            "Epoch 54/100\n",
            "3557/3557 [==============================] - 23s 7ms/sample - loss: 7.1866e-04\n",
            "Epoch 55/100\n",
            "3557/3557 [==============================] - 23s 7ms/sample - loss: 6.2717e-04\n",
            "Epoch 56/100\n",
            "3557/3557 [==============================] - 24s 7ms/sample - loss: 5.8370e-04\n",
            "Epoch 57/100\n",
            "3557/3557 [==============================] - 23s 7ms/sample - loss: 6.7721e-04\n",
            "Epoch 58/100\n",
            "3557/3557 [==============================] - 23s 6ms/sample - loss: 6.6190e-04\n",
            "Epoch 59/100\n",
            "3557/3557 [==============================] - 24s 7ms/sample - loss: 6.5116e-04\n",
            "Epoch 60/100\n",
            "3557/3557 [==============================] - 24s 7ms/sample - loss: 5.6185e-04\n",
            "Epoch 61/100\n",
            "3557/3557 [==============================] - 23s 7ms/sample - loss: 5.6058e-04\n",
            "Epoch 62/100\n",
            "3557/3557 [==============================] - 23s 7ms/sample - loss: 5.7784e-04\n",
            "Epoch 63/100\n",
            "3557/3557 [==============================] - 23s 6ms/sample - loss: 7.1213e-04\n",
            "Epoch 64/100\n",
            "3557/3557 [==============================] - 23s 6ms/sample - loss: 5.7876e-04\n",
            "Epoch 65/100\n",
            "3557/3557 [==============================] - 23s 6ms/sample - loss: 5.9309e-04\n",
            "Epoch 66/100\n",
            "3557/3557 [==============================] - 23s 6ms/sample - loss: 5.7225e-04\n",
            "Epoch 67/100\n",
            "3557/3557 [==============================] - 23s 6ms/sample - loss: 5.8628e-04\n",
            "Epoch 68/100\n",
            "3557/3557 [==============================] - 23s 7ms/sample - loss: 5.0688e-04\n",
            "Epoch 69/100\n",
            "3557/3557 [==============================] - 23s 6ms/sample - loss: 5.7261e-04\n",
            "Epoch 70/100\n",
            "3557/3557 [==============================] - 23s 6ms/sample - loss: 6.1507e-04\n",
            "Epoch 71/100\n",
            "3557/3557 [==============================] - 23s 6ms/sample - loss: 6.1620e-04\n",
            "Epoch 72/100\n",
            "3557/3557 [==============================] - 23s 7ms/sample - loss: 6.1416e-04\n",
            "Epoch 73/100\n",
            "3557/3557 [==============================] - 23s 6ms/sample - loss: 5.4908e-04\n",
            "Epoch 74/100\n",
            "3557/3557 [==============================] - 23s 7ms/sample - loss: 5.7625e-04\n",
            "Epoch 75/100\n",
            "3557/3557 [==============================] - 24s 7ms/sample - loss: 4.8976e-04\n",
            "Epoch 76/100\n",
            "3557/3557 [==============================] - 23s 6ms/sample - loss: 5.7189e-04\n",
            "Epoch 77/100\n",
            "3557/3557 [==============================] - 23s 7ms/sample - loss: 5.8991e-04\n",
            "Epoch 78/100\n",
            "3557/3557 [==============================] - 23s 7ms/sample - loss: 5.7027e-04\n",
            "Epoch 79/100\n",
            "3557/3557 [==============================] - 23s 6ms/sample - loss: 5.8056e-04\n",
            "Epoch 80/100\n",
            "3557/3557 [==============================] - 23s 6ms/sample - loss: 5.8560e-04\n",
            "Epoch 81/100\n",
            "3557/3557 [==============================] - 23s 6ms/sample - loss: 5.3259e-04\n",
            "Epoch 82/100\n",
            "3557/3557 [==============================] - 23s 7ms/sample - loss: 5.6286e-04\n",
            "Epoch 83/100\n",
            "3557/3557 [==============================] - 23s 7ms/sample - loss: 5.2574e-04\n",
            "Epoch 84/100\n",
            "3557/3557 [==============================] - 23s 6ms/sample - loss: 5.3149e-04\n",
            "Epoch 85/100\n",
            "3557/3557 [==============================] - 23s 6ms/sample - loss: 4.7925e-04\n",
            "Epoch 86/100\n",
            "3557/3557 [==============================] - 23s 6ms/sample - loss: 5.0737e-04\n",
            "Epoch 87/100\n",
            "3557/3557 [==============================] - 23s 7ms/sample - loss: 5.7557e-04\n",
            "Epoch 88/100\n",
            "3557/3557 [==============================] - 23s 7ms/sample - loss: 4.9453e-04\n",
            "Epoch 89/100\n",
            "3557/3557 [==============================] - 23s 6ms/sample - loss: 5.5232e-04\n",
            "Epoch 90/100\n",
            "3557/3557 [==============================] - 23s 7ms/sample - loss: 5.4272e-04\n",
            "Epoch 91/100\n",
            "3557/3557 [==============================] - 23s 6ms/sample - loss: 5.7278e-04\n",
            "Epoch 92/100\n",
            "3557/3557 [==============================] - 23s 6ms/sample - loss: 6.0541e-04\n",
            "Epoch 93/100\n",
            "3557/3557 [==============================] - 23s 6ms/sample - loss: 5.5380e-04\n",
            "Epoch 94/100\n",
            "3557/3557 [==============================] - 23s 6ms/sample - loss: 5.0932e-04\n",
            "Epoch 95/100\n",
            "3557/3557 [==============================] - 23s 7ms/sample - loss: 5.5439e-04\n",
            "Epoch 96/100\n",
            "3557/3557 [==============================] - 23s 7ms/sample - loss: 5.3866e-04\n",
            "Epoch 97/100\n",
            "3557/3557 [==============================] - 23s 7ms/sample - loss: 4.6761e-04\n",
            "Epoch 98/100\n",
            "3557/3557 [==============================] - 24s 7ms/sample - loss: 5.4800e-04\n",
            "Epoch 99/100\n",
            "3557/3557 [==============================] - 24s 7ms/sample - loss: 4.7469e-04\n",
            "Epoch 100/100\n",
            "3557/3557 [==============================] - 23s 7ms/sample - loss: 5.0980e-04\n"
          ],
          "name": "stdout"
        },
        {
          "output_type": "execute_result",
          "data": {
            "text/plain": [
              "<tensorflow.python.keras.callbacks.History at 0x7f4ca8447da0>"
            ]
          },
          "metadata": {
            "tags": []
          },
          "execution_count": 15
        }
      ]
    },
    {
      "cell_type": "code",
      "metadata": {
        "id": "A272HakWPH-T",
        "colab_type": "code",
        "colab": {}
      },
      "source": [
        ""
      ],
      "execution_count": 0,
      "outputs": []
    },
    {
      "cell_type": "markdown",
      "metadata": {
        "id": "QZ4EpgS9PMMJ",
        "colab_type": "text"
      },
      "source": [
        "# Prepare test dataset"
      ]
    },
    {
      "cell_type": "code",
      "metadata": {
        "id": "apiVCG3pPOBT",
        "colab_type": "code",
        "outputId": "d208ff5f-7239-4811-85b1-b9d77aca32cd",
        "colab": {
          "base_uri": "https://localhost:8080/",
          "height": 204
        }
      },
      "source": [
        "data_test.head()"
      ],
      "execution_count": 16,
      "outputs": [
        {
          "output_type": "execute_result",
          "data": {
            "text/html": [
              "<div>\n",
              "<style scoped>\n",
              "    .dataframe tbody tr th:only-of-type {\n",
              "        vertical-align: middle;\n",
              "    }\n",
              "\n",
              "    .dataframe tbody tr th {\n",
              "        vertical-align: top;\n",
              "    }\n",
              "\n",
              "    .dataframe thead th {\n",
              "        text-align: right;\n",
              "    }\n",
              "</style>\n",
              "<table border=\"1\" class=\"dataframe\">\n",
              "  <thead>\n",
              "    <tr style=\"text-align: right;\">\n",
              "      <th></th>\n",
              "      <th>Date</th>\n",
              "      <th>Open</th>\n",
              "      <th>High</th>\n",
              "      <th>Low</th>\n",
              "      <th>Close</th>\n",
              "      <th>Adj Close</th>\n",
              "      <th>Volume</th>\n",
              "    </tr>\n",
              "  </thead>\n",
              "  <tbody>\n",
              "    <tr>\n",
              "      <th>3617</th>\n",
              "      <td>2019-01-02</td>\n",
              "      <td>1016.570007</td>\n",
              "      <td>1052.319946</td>\n",
              "      <td>1015.710022</td>\n",
              "      <td>1045.849976</td>\n",
              "      <td>1045.849976</td>\n",
              "      <td>1532600</td>\n",
              "    </tr>\n",
              "    <tr>\n",
              "      <th>3618</th>\n",
              "      <td>2019-01-03</td>\n",
              "      <td>1041.000000</td>\n",
              "      <td>1056.979980</td>\n",
              "      <td>1014.070007</td>\n",
              "      <td>1016.059998</td>\n",
              "      <td>1016.059998</td>\n",
              "      <td>1841100</td>\n",
              "    </tr>\n",
              "    <tr>\n",
              "      <th>3619</th>\n",
              "      <td>2019-01-04</td>\n",
              "      <td>1032.589966</td>\n",
              "      <td>1070.839966</td>\n",
              "      <td>1027.417969</td>\n",
              "      <td>1070.709961</td>\n",
              "      <td>1070.709961</td>\n",
              "      <td>2093900</td>\n",
              "    </tr>\n",
              "    <tr>\n",
              "      <th>3620</th>\n",
              "      <td>2019-01-07</td>\n",
              "      <td>1071.500000</td>\n",
              "      <td>1074.000000</td>\n",
              "      <td>1054.760010</td>\n",
              "      <td>1068.390015</td>\n",
              "      <td>1068.390015</td>\n",
              "      <td>1981900</td>\n",
              "    </tr>\n",
              "    <tr>\n",
              "      <th>3621</th>\n",
              "      <td>2019-01-08</td>\n",
              "      <td>1076.109985</td>\n",
              "      <td>1084.560059</td>\n",
              "      <td>1060.530029</td>\n",
              "      <td>1076.280029</td>\n",
              "      <td>1076.280029</td>\n",
              "      <td>1764900</td>\n",
              "    </tr>\n",
              "  </tbody>\n",
              "</table>\n",
              "</div>"
            ],
            "text/plain": [
              "            Date         Open         High  ...        Close    Adj Close   Volume\n",
              "3617  2019-01-02  1016.570007  1052.319946  ...  1045.849976  1045.849976  1532600\n",
              "3618  2019-01-03  1041.000000  1056.979980  ...  1016.059998  1016.059998  1841100\n",
              "3619  2019-01-04  1032.589966  1070.839966  ...  1070.709961  1070.709961  2093900\n",
              "3620  2019-01-07  1071.500000  1074.000000  ...  1068.390015  1068.390015  1981900\n",
              "3621  2019-01-08  1076.109985  1084.560059  ...  1076.280029  1076.280029  1764900\n",
              "\n",
              "[5 rows x 7 columns]"
            ]
          },
          "metadata": {
            "tags": []
          },
          "execution_count": 16
        }
      ]
    },
    {
      "cell_type": "code",
      "metadata": {
        "id": "XzhiFTnWU-yt",
        "colab_type": "code",
        "outputId": "f59138d0-ed5a-4067-fade-7531ef10421e",
        "colab": {
          "base_uri": "https://localhost:8080/",
          "height": 1000
        }
      },
      "source": [
        "data_training.tail(60)"
      ],
      "execution_count": 17,
      "outputs": [
        {
          "output_type": "execute_result",
          "data": {
            "text/html": [
              "<div>\n",
              "<style scoped>\n",
              "    .dataframe tbody tr th:only-of-type {\n",
              "        vertical-align: middle;\n",
              "    }\n",
              "\n",
              "    .dataframe tbody tr th {\n",
              "        vertical-align: top;\n",
              "    }\n",
              "\n",
              "    .dataframe thead th {\n",
              "        text-align: right;\n",
              "    }\n",
              "</style>\n",
              "<table border=\"1\" class=\"dataframe\">\n",
              "  <thead>\n",
              "    <tr style=\"text-align: right;\">\n",
              "      <th></th>\n",
              "      <th>Date</th>\n",
              "      <th>Open</th>\n",
              "      <th>High</th>\n",
              "      <th>Low</th>\n",
              "      <th>Close</th>\n",
              "      <th>Adj Close</th>\n",
              "      <th>Volume</th>\n",
              "    </tr>\n",
              "  </thead>\n",
              "  <tbody>\n",
              "    <tr>\n",
              "      <th>3557</th>\n",
              "      <td>2018-10-04</td>\n",
              "      <td>1195.329956</td>\n",
              "      <td>1197.510010</td>\n",
              "      <td>1155.576050</td>\n",
              "      <td>1168.189941</td>\n",
              "      <td>1168.189941</td>\n",
              "      <td>2209500</td>\n",
              "    </tr>\n",
              "    <tr>\n",
              "      <th>3558</th>\n",
              "      <td>2018-10-05</td>\n",
              "      <td>1167.500000</td>\n",
              "      <td>1173.500000</td>\n",
              "      <td>1145.119995</td>\n",
              "      <td>1157.349976</td>\n",
              "      <td>1157.349976</td>\n",
              "      <td>1184300</td>\n",
              "    </tr>\n",
              "    <tr>\n",
              "      <th>3559</th>\n",
              "      <td>2018-10-08</td>\n",
              "      <td>1150.109985</td>\n",
              "      <td>1168.000000</td>\n",
              "      <td>1127.364014</td>\n",
              "      <td>1148.969971</td>\n",
              "      <td>1148.969971</td>\n",
              "      <td>1932400</td>\n",
              "    </tr>\n",
              "    <tr>\n",
              "      <th>3560</th>\n",
              "      <td>2018-10-09</td>\n",
              "      <td>1146.150024</td>\n",
              "      <td>1154.349976</td>\n",
              "      <td>1137.572021</td>\n",
              "      <td>1138.819946</td>\n",
              "      <td>1138.819946</td>\n",
              "      <td>1308700</td>\n",
              "    </tr>\n",
              "    <tr>\n",
              "      <th>3561</th>\n",
              "      <td>2018-10-10</td>\n",
              "      <td>1131.079956</td>\n",
              "      <td>1132.170044</td>\n",
              "      <td>1081.130005</td>\n",
              "      <td>1081.219971</td>\n",
              "      <td>1081.219971</td>\n",
              "      <td>2675700</td>\n",
              "    </tr>\n",
              "    <tr>\n",
              "      <th>3562</th>\n",
              "      <td>2018-10-11</td>\n",
              "      <td>1072.939941</td>\n",
              "      <td>1106.400024</td>\n",
              "      <td>1068.270020</td>\n",
              "      <td>1079.319946</td>\n",
              "      <td>1079.319946</td>\n",
              "      <td>2949000</td>\n",
              "    </tr>\n",
              "    <tr>\n",
              "      <th>3563</th>\n",
              "      <td>2018-10-12</td>\n",
              "      <td>1108.000000</td>\n",
              "      <td>1115.000000</td>\n",
              "      <td>1086.401978</td>\n",
              "      <td>1110.079956</td>\n",
              "      <td>1110.079956</td>\n",
              "      <td>2101300</td>\n",
              "    </tr>\n",
              "    <tr>\n",
              "      <th>3564</th>\n",
              "      <td>2018-10-15</td>\n",
              "      <td>1108.910034</td>\n",
              "      <td>1113.446045</td>\n",
              "      <td>1089.000000</td>\n",
              "      <td>1092.250000</td>\n",
              "      <td>1092.250000</td>\n",
              "      <td>1372400</td>\n",
              "    </tr>\n",
              "    <tr>\n",
              "      <th>3565</th>\n",
              "      <td>2018-10-16</td>\n",
              "      <td>1104.589966</td>\n",
              "      <td>1124.219971</td>\n",
              "      <td>1102.500000</td>\n",
              "      <td>1121.280029</td>\n",
              "      <td>1121.280029</td>\n",
              "      <td>1928500</td>\n",
              "    </tr>\n",
              "    <tr>\n",
              "      <th>3566</th>\n",
              "      <td>2018-10-17</td>\n",
              "      <td>1126.459961</td>\n",
              "      <td>1128.989990</td>\n",
              "      <td>1102.189941</td>\n",
              "      <td>1115.689941</td>\n",
              "      <td>1115.689941</td>\n",
              "      <td>1467200</td>\n",
              "    </tr>\n",
              "    <tr>\n",
              "      <th>3567</th>\n",
              "      <td>2018-10-18</td>\n",
              "      <td>1121.839966</td>\n",
              "      <td>1121.839966</td>\n",
              "      <td>1077.089966</td>\n",
              "      <td>1087.969971</td>\n",
              "      <td>1087.969971</td>\n",
              "      <td>2094500</td>\n",
              "    </tr>\n",
              "    <tr>\n",
              "      <th>3568</th>\n",
              "      <td>2018-10-19</td>\n",
              "      <td>1093.369995</td>\n",
              "      <td>1110.359985</td>\n",
              "      <td>1087.750000</td>\n",
              "      <td>1096.459961</td>\n",
              "      <td>1096.459961</td>\n",
              "      <td>1267600</td>\n",
              "    </tr>\n",
              "    <tr>\n",
              "      <th>3569</th>\n",
              "      <td>2018-10-22</td>\n",
              "      <td>1103.060059</td>\n",
              "      <td>1112.229980</td>\n",
              "      <td>1091.000000</td>\n",
              "      <td>1101.160034</td>\n",
              "      <td>1101.160034</td>\n",
              "      <td>1514200</td>\n",
              "    </tr>\n",
              "    <tr>\n",
              "      <th>3570</th>\n",
              "      <td>2018-10-23</td>\n",
              "      <td>1080.890015</td>\n",
              "      <td>1107.890015</td>\n",
              "      <td>1070.000000</td>\n",
              "      <td>1103.689941</td>\n",
              "      <td>1103.689941</td>\n",
              "      <td>1848700</td>\n",
              "    </tr>\n",
              "    <tr>\n",
              "      <th>3571</th>\n",
              "      <td>2018-10-24</td>\n",
              "      <td>1104.250000</td>\n",
              "      <td>1106.119995</td>\n",
              "      <td>1048.739990</td>\n",
              "      <td>1050.709961</td>\n",
              "      <td>1050.709961</td>\n",
              "      <td>1982400</td>\n",
              "    </tr>\n",
              "    <tr>\n",
              "      <th>3572</th>\n",
              "      <td>2018-10-25</td>\n",
              "      <td>1071.790039</td>\n",
              "      <td>1110.979980</td>\n",
              "      <td>1069.550049</td>\n",
              "      <td>1095.569946</td>\n",
              "      <td>1095.569946</td>\n",
              "      <td>2545800</td>\n",
              "    </tr>\n",
              "    <tr>\n",
              "      <th>3573</th>\n",
              "      <td>2018-10-26</td>\n",
              "      <td>1037.030029</td>\n",
              "      <td>1106.530029</td>\n",
              "      <td>1034.089966</td>\n",
              "      <td>1071.469971</td>\n",
              "      <td>1071.469971</td>\n",
              "      <td>4187600</td>\n",
              "    </tr>\n",
              "    <tr>\n",
              "      <th>3574</th>\n",
              "      <td>2018-10-29</td>\n",
              "      <td>1082.469971</td>\n",
              "      <td>1097.040039</td>\n",
              "      <td>995.830017</td>\n",
              "      <td>1020.080017</td>\n",
              "      <td>1020.080017</td>\n",
              "      <td>3880700</td>\n",
              "    </tr>\n",
              "    <tr>\n",
              "      <th>3575</th>\n",
              "      <td>2018-10-30</td>\n",
              "      <td>1008.460022</td>\n",
              "      <td>1037.489990</td>\n",
              "      <td>1000.750000</td>\n",
              "      <td>1036.209961</td>\n",
              "      <td>1036.209961</td>\n",
              "      <td>3212700</td>\n",
              "    </tr>\n",
              "    <tr>\n",
              "      <th>3576</th>\n",
              "      <td>2018-10-31</td>\n",
              "      <td>1059.810059</td>\n",
              "      <td>1091.939941</td>\n",
              "      <td>1057.000000</td>\n",
              "      <td>1076.770020</td>\n",
              "      <td>1076.770020</td>\n",
              "      <td>2529800</td>\n",
              "    </tr>\n",
              "    <tr>\n",
              "      <th>3577</th>\n",
              "      <td>2018-11-01</td>\n",
              "      <td>1075.800049</td>\n",
              "      <td>1083.974976</td>\n",
              "      <td>1062.459961</td>\n",
              "      <td>1070.000000</td>\n",
              "      <td>1070.000000</td>\n",
              "      <td>1482000</td>\n",
              "    </tr>\n",
              "    <tr>\n",
              "      <th>3578</th>\n",
              "      <td>2018-11-02</td>\n",
              "      <td>1073.729980</td>\n",
              "      <td>1082.974976</td>\n",
              "      <td>1054.609985</td>\n",
              "      <td>1057.790039</td>\n",
              "      <td>1057.790039</td>\n",
              "      <td>1839000</td>\n",
              "    </tr>\n",
              "    <tr>\n",
              "      <th>3579</th>\n",
              "      <td>2018-11-05</td>\n",
              "      <td>1055.000000</td>\n",
              "      <td>1058.469971</td>\n",
              "      <td>1021.239990</td>\n",
              "      <td>1040.089966</td>\n",
              "      <td>1040.089966</td>\n",
              "      <td>2441400</td>\n",
              "    </tr>\n",
              "    <tr>\n",
              "      <th>3580</th>\n",
              "      <td>2018-11-06</td>\n",
              "      <td>1039.479980</td>\n",
              "      <td>1064.344971</td>\n",
              "      <td>1038.069946</td>\n",
              "      <td>1055.810059</td>\n",
              "      <td>1055.810059</td>\n",
              "      <td>1233300</td>\n",
              "    </tr>\n",
              "    <tr>\n",
              "      <th>3581</th>\n",
              "      <td>2018-11-07</td>\n",
              "      <td>1069.000000</td>\n",
              "      <td>1095.459961</td>\n",
              "      <td>1065.900024</td>\n",
              "      <td>1093.390015</td>\n",
              "      <td>1093.390015</td>\n",
              "      <td>2058400</td>\n",
              "    </tr>\n",
              "    <tr>\n",
              "      <th>3582</th>\n",
              "      <td>2018-11-08</td>\n",
              "      <td>1091.380005</td>\n",
              "      <td>1093.270020</td>\n",
              "      <td>1072.204956</td>\n",
              "      <td>1082.400024</td>\n",
              "      <td>1082.400024</td>\n",
              "      <td>1488200</td>\n",
              "    </tr>\n",
              "    <tr>\n",
              "      <th>3583</th>\n",
              "      <td>2018-11-09</td>\n",
              "      <td>1073.989990</td>\n",
              "      <td>1075.560059</td>\n",
              "      <td>1053.109985</td>\n",
              "      <td>1066.150024</td>\n",
              "      <td>1066.150024</td>\n",
              "      <td>1343200</td>\n",
              "    </tr>\n",
              "    <tr>\n",
              "      <th>3584</th>\n",
              "      <td>2018-11-12</td>\n",
              "      <td>1061.390015</td>\n",
              "      <td>1062.119995</td>\n",
              "      <td>1031.000000</td>\n",
              "      <td>1038.630005</td>\n",
              "      <td>1038.630005</td>\n",
              "      <td>1471800</td>\n",
              "    </tr>\n",
              "    <tr>\n",
              "      <th>3585</th>\n",
              "      <td>2018-11-13</td>\n",
              "      <td>1043.290039</td>\n",
              "      <td>1056.604980</td>\n",
              "      <td>1031.150024</td>\n",
              "      <td>1036.050049</td>\n",
              "      <td>1036.050049</td>\n",
              "      <td>1513700</td>\n",
              "    </tr>\n",
              "    <tr>\n",
              "      <th>3586</th>\n",
              "      <td>2018-11-14</td>\n",
              "      <td>1050.000000</td>\n",
              "      <td>1054.563965</td>\n",
              "      <td>1031.000000</td>\n",
              "      <td>1043.660034</td>\n",
              "      <td>1043.660034</td>\n",
              "      <td>1565900</td>\n",
              "    </tr>\n",
              "    <tr>\n",
              "      <th>3587</th>\n",
              "      <td>2018-11-15</td>\n",
              "      <td>1044.709961</td>\n",
              "      <td>1071.849976</td>\n",
              "      <td>1031.780029</td>\n",
              "      <td>1064.709961</td>\n",
              "      <td>1064.709961</td>\n",
              "      <td>1836100</td>\n",
              "    </tr>\n",
              "    <tr>\n",
              "      <th>3588</th>\n",
              "      <td>2018-11-16</td>\n",
              "      <td>1059.410034</td>\n",
              "      <td>1067.000000</td>\n",
              "      <td>1048.979980</td>\n",
              "      <td>1061.489990</td>\n",
              "      <td>1061.489990</td>\n",
              "      <td>1658100</td>\n",
              "    </tr>\n",
              "    <tr>\n",
              "      <th>3589</th>\n",
              "      <td>2018-11-19</td>\n",
              "      <td>1057.199951</td>\n",
              "      <td>1060.790039</td>\n",
              "      <td>1016.260010</td>\n",
              "      <td>1020.000000</td>\n",
              "      <td>1020.000000</td>\n",
              "      <td>1858600</td>\n",
              "    </tr>\n",
              "    <tr>\n",
              "      <th>3590</th>\n",
              "      <td>2018-11-20</td>\n",
              "      <td>1000.000000</td>\n",
              "      <td>1031.739990</td>\n",
              "      <td>996.020020</td>\n",
              "      <td>1025.760010</td>\n",
              "      <td>1025.760010</td>\n",
              "      <td>2449100</td>\n",
              "    </tr>\n",
              "    <tr>\n",
              "      <th>3591</th>\n",
              "      <td>2018-11-21</td>\n",
              "      <td>1036.760010</td>\n",
              "      <td>1048.560059</td>\n",
              "      <td>1033.469971</td>\n",
              "      <td>1037.609985</td>\n",
              "      <td>1037.609985</td>\n",
              "      <td>1534300</td>\n",
              "    </tr>\n",
              "    <tr>\n",
              "      <th>3592</th>\n",
              "      <td>2018-11-23</td>\n",
              "      <td>1030.000000</td>\n",
              "      <td>1037.589966</td>\n",
              "      <td>1022.398987</td>\n",
              "      <td>1023.880005</td>\n",
              "      <td>1023.880005</td>\n",
              "      <td>691500</td>\n",
              "    </tr>\n",
              "    <tr>\n",
              "      <th>3593</th>\n",
              "      <td>2018-11-26</td>\n",
              "      <td>1038.349976</td>\n",
              "      <td>1049.310059</td>\n",
              "      <td>1033.910034</td>\n",
              "      <td>1048.619995</td>\n",
              "      <td>1048.619995</td>\n",
              "      <td>1942800</td>\n",
              "    </tr>\n",
              "    <tr>\n",
              "      <th>3594</th>\n",
              "      <td>2018-11-27</td>\n",
              "      <td>1041.000000</td>\n",
              "      <td>1057.579956</td>\n",
              "      <td>1038.489990</td>\n",
              "      <td>1044.410034</td>\n",
              "      <td>1044.410034</td>\n",
              "      <td>1803200</td>\n",
              "    </tr>\n",
              "    <tr>\n",
              "      <th>3595</th>\n",
              "      <td>2018-11-28</td>\n",
              "      <td>1048.760010</td>\n",
              "      <td>1086.839966</td>\n",
              "      <td>1035.760010</td>\n",
              "      <td>1086.229980</td>\n",
              "      <td>1086.229980</td>\n",
              "      <td>2475400</td>\n",
              "    </tr>\n",
              "    <tr>\n",
              "      <th>3596</th>\n",
              "      <td>2018-11-29</td>\n",
              "      <td>1076.079956</td>\n",
              "      <td>1094.244995</td>\n",
              "      <td>1076.000000</td>\n",
              "      <td>1088.300049</td>\n",
              "      <td>1088.300049</td>\n",
              "      <td>1468900</td>\n",
              "    </tr>\n",
              "    <tr>\n",
              "      <th>3597</th>\n",
              "      <td>2018-11-30</td>\n",
              "      <td>1089.069946</td>\n",
              "      <td>1095.569946</td>\n",
              "      <td>1077.880005</td>\n",
              "      <td>1094.430054</td>\n",
              "      <td>1094.430054</td>\n",
              "      <td>2580200</td>\n",
              "    </tr>\n",
              "    <tr>\n",
              "      <th>3598</th>\n",
              "      <td>2018-12-03</td>\n",
              "      <td>1123.140015</td>\n",
              "      <td>1124.650024</td>\n",
              "      <td>1103.665039</td>\n",
              "      <td>1106.430054</td>\n",
              "      <td>1106.430054</td>\n",
              "      <td>1991200</td>\n",
              "    </tr>\n",
              "    <tr>\n",
              "      <th>3599</th>\n",
              "      <td>2018-12-04</td>\n",
              "      <td>1103.119995</td>\n",
              "      <td>1104.420044</td>\n",
              "      <td>1049.979980</td>\n",
              "      <td>1050.819946</td>\n",
              "      <td>1050.819946</td>\n",
              "      <td>2345200</td>\n",
              "    </tr>\n",
              "    <tr>\n",
              "      <th>3600</th>\n",
              "      <td>2018-12-06</td>\n",
              "      <td>1034.260010</td>\n",
              "      <td>1071.199951</td>\n",
              "      <td>1030.770020</td>\n",
              "      <td>1068.729980</td>\n",
              "      <td>1068.729980</td>\n",
              "      <td>2769200</td>\n",
              "    </tr>\n",
              "    <tr>\n",
              "      <th>3601</th>\n",
              "      <td>2018-12-07</td>\n",
              "      <td>1060.010010</td>\n",
              "      <td>1075.260010</td>\n",
              "      <td>1028.500000</td>\n",
              "      <td>1036.579956</td>\n",
              "      <td>1036.579956</td>\n",
              "      <td>2101200</td>\n",
              "    </tr>\n",
              "    <tr>\n",
              "      <th>3602</th>\n",
              "      <td>2018-12-10</td>\n",
              "      <td>1035.050049</td>\n",
              "      <td>1048.449951</td>\n",
              "      <td>1023.289978</td>\n",
              "      <td>1039.550049</td>\n",
              "      <td>1039.550049</td>\n",
              "      <td>1807700</td>\n",
              "    </tr>\n",
              "    <tr>\n",
              "      <th>3603</th>\n",
              "      <td>2018-12-11</td>\n",
              "      <td>1056.489990</td>\n",
              "      <td>1060.599976</td>\n",
              "      <td>1039.839966</td>\n",
              "      <td>1051.750000</td>\n",
              "      <td>1051.750000</td>\n",
              "      <td>1394700</td>\n",
              "    </tr>\n",
              "    <tr>\n",
              "      <th>3604</th>\n",
              "      <td>2018-12-12</td>\n",
              "      <td>1068.000000</td>\n",
              "      <td>1081.650024</td>\n",
              "      <td>1062.790039</td>\n",
              "      <td>1063.680054</td>\n",
              "      <td>1063.680054</td>\n",
              "      <td>1523800</td>\n",
              "    </tr>\n",
              "    <tr>\n",
              "      <th>3605</th>\n",
              "      <td>2018-12-13</td>\n",
              "      <td>1068.069946</td>\n",
              "      <td>1079.760010</td>\n",
              "      <td>1053.930054</td>\n",
              "      <td>1061.900024</td>\n",
              "      <td>1061.900024</td>\n",
              "      <td>1329800</td>\n",
              "    </tr>\n",
              "    <tr>\n",
              "      <th>3606</th>\n",
              "      <td>2018-12-14</td>\n",
              "      <td>1049.979980</td>\n",
              "      <td>1062.599976</td>\n",
              "      <td>1040.790039</td>\n",
              "      <td>1042.099976</td>\n",
              "      <td>1042.099976</td>\n",
              "      <td>1686600</td>\n",
              "    </tr>\n",
              "    <tr>\n",
              "      <th>3607</th>\n",
              "      <td>2018-12-17</td>\n",
              "      <td>1037.510010</td>\n",
              "      <td>1053.150024</td>\n",
              "      <td>1007.900024</td>\n",
              "      <td>1016.530029</td>\n",
              "      <td>1016.530029</td>\n",
              "      <td>2385400</td>\n",
              "    </tr>\n",
              "    <tr>\n",
              "      <th>3608</th>\n",
              "      <td>2018-12-18</td>\n",
              "      <td>1026.089966</td>\n",
              "      <td>1049.479980</td>\n",
              "      <td>1021.440002</td>\n",
              "      <td>1028.709961</td>\n",
              "      <td>1028.709961</td>\n",
              "      <td>2192500</td>\n",
              "    </tr>\n",
              "    <tr>\n",
              "      <th>3609</th>\n",
              "      <td>2018-12-19</td>\n",
              "      <td>1033.989990</td>\n",
              "      <td>1062.000000</td>\n",
              "      <td>1008.049988</td>\n",
              "      <td>1023.010010</td>\n",
              "      <td>1023.010010</td>\n",
              "      <td>2479300</td>\n",
              "    </tr>\n",
              "    <tr>\n",
              "      <th>3610</th>\n",
              "      <td>2018-12-20</td>\n",
              "      <td>1018.130005</td>\n",
              "      <td>1034.219971</td>\n",
              "      <td>996.359985</td>\n",
              "      <td>1009.409973</td>\n",
              "      <td>1009.409973</td>\n",
              "      <td>2673500</td>\n",
              "    </tr>\n",
              "    <tr>\n",
              "      <th>3611</th>\n",
              "      <td>2018-12-21</td>\n",
              "      <td>1015.299988</td>\n",
              "      <td>1024.020020</td>\n",
              "      <td>973.690002</td>\n",
              "      <td>979.539978</td>\n",
              "      <td>979.539978</td>\n",
              "      <td>4596000</td>\n",
              "    </tr>\n",
              "    <tr>\n",
              "      <th>3612</th>\n",
              "      <td>2018-12-24</td>\n",
              "      <td>973.900024</td>\n",
              "      <td>1003.539978</td>\n",
              "      <td>970.109985</td>\n",
              "      <td>976.219971</td>\n",
              "      <td>976.219971</td>\n",
              "      <td>1590300</td>\n",
              "    </tr>\n",
              "    <tr>\n",
              "      <th>3613</th>\n",
              "      <td>2018-12-26</td>\n",
              "      <td>989.010010</td>\n",
              "      <td>1040.000000</td>\n",
              "      <td>983.000000</td>\n",
              "      <td>1039.459961</td>\n",
              "      <td>1039.459961</td>\n",
              "      <td>2373300</td>\n",
              "    </tr>\n",
              "    <tr>\n",
              "      <th>3614</th>\n",
              "      <td>2018-12-27</td>\n",
              "      <td>1017.150024</td>\n",
              "      <td>1043.890015</td>\n",
              "      <td>997.000000</td>\n",
              "      <td>1043.880005</td>\n",
              "      <td>1043.880005</td>\n",
              "      <td>2109800</td>\n",
              "    </tr>\n",
              "    <tr>\n",
              "      <th>3615</th>\n",
              "      <td>2018-12-28</td>\n",
              "      <td>1049.619995</td>\n",
              "      <td>1055.560059</td>\n",
              "      <td>1033.099976</td>\n",
              "      <td>1037.079956</td>\n",
              "      <td>1037.079956</td>\n",
              "      <td>1414800</td>\n",
              "    </tr>\n",
              "    <tr>\n",
              "      <th>3616</th>\n",
              "      <td>2018-12-31</td>\n",
              "      <td>1050.959961</td>\n",
              "      <td>1052.699951</td>\n",
              "      <td>1023.590027</td>\n",
              "      <td>1035.609985</td>\n",
              "      <td>1035.609985</td>\n",
              "      <td>1493300</td>\n",
              "    </tr>\n",
              "  </tbody>\n",
              "</table>\n",
              "</div>"
            ],
            "text/plain": [
              "            Date         Open         High  ...        Close    Adj Close   Volume\n",
              "3557  2018-10-04  1195.329956  1197.510010  ...  1168.189941  1168.189941  2209500\n",
              "3558  2018-10-05  1167.500000  1173.500000  ...  1157.349976  1157.349976  1184300\n",
              "3559  2018-10-08  1150.109985  1168.000000  ...  1148.969971  1148.969971  1932400\n",
              "3560  2018-10-09  1146.150024  1154.349976  ...  1138.819946  1138.819946  1308700\n",
              "3561  2018-10-10  1131.079956  1132.170044  ...  1081.219971  1081.219971  2675700\n",
              "3562  2018-10-11  1072.939941  1106.400024  ...  1079.319946  1079.319946  2949000\n",
              "3563  2018-10-12  1108.000000  1115.000000  ...  1110.079956  1110.079956  2101300\n",
              "3564  2018-10-15  1108.910034  1113.446045  ...  1092.250000  1092.250000  1372400\n",
              "3565  2018-10-16  1104.589966  1124.219971  ...  1121.280029  1121.280029  1928500\n",
              "3566  2018-10-17  1126.459961  1128.989990  ...  1115.689941  1115.689941  1467200\n",
              "3567  2018-10-18  1121.839966  1121.839966  ...  1087.969971  1087.969971  2094500\n",
              "3568  2018-10-19  1093.369995  1110.359985  ...  1096.459961  1096.459961  1267600\n",
              "3569  2018-10-22  1103.060059  1112.229980  ...  1101.160034  1101.160034  1514200\n",
              "3570  2018-10-23  1080.890015  1107.890015  ...  1103.689941  1103.689941  1848700\n",
              "3571  2018-10-24  1104.250000  1106.119995  ...  1050.709961  1050.709961  1982400\n",
              "3572  2018-10-25  1071.790039  1110.979980  ...  1095.569946  1095.569946  2545800\n",
              "3573  2018-10-26  1037.030029  1106.530029  ...  1071.469971  1071.469971  4187600\n",
              "3574  2018-10-29  1082.469971  1097.040039  ...  1020.080017  1020.080017  3880700\n",
              "3575  2018-10-30  1008.460022  1037.489990  ...  1036.209961  1036.209961  3212700\n",
              "3576  2018-10-31  1059.810059  1091.939941  ...  1076.770020  1076.770020  2529800\n",
              "3577  2018-11-01  1075.800049  1083.974976  ...  1070.000000  1070.000000  1482000\n",
              "3578  2018-11-02  1073.729980  1082.974976  ...  1057.790039  1057.790039  1839000\n",
              "3579  2018-11-05  1055.000000  1058.469971  ...  1040.089966  1040.089966  2441400\n",
              "3580  2018-11-06  1039.479980  1064.344971  ...  1055.810059  1055.810059  1233300\n",
              "3581  2018-11-07  1069.000000  1095.459961  ...  1093.390015  1093.390015  2058400\n",
              "3582  2018-11-08  1091.380005  1093.270020  ...  1082.400024  1082.400024  1488200\n",
              "3583  2018-11-09  1073.989990  1075.560059  ...  1066.150024  1066.150024  1343200\n",
              "3584  2018-11-12  1061.390015  1062.119995  ...  1038.630005  1038.630005  1471800\n",
              "3585  2018-11-13  1043.290039  1056.604980  ...  1036.050049  1036.050049  1513700\n",
              "3586  2018-11-14  1050.000000  1054.563965  ...  1043.660034  1043.660034  1565900\n",
              "3587  2018-11-15  1044.709961  1071.849976  ...  1064.709961  1064.709961  1836100\n",
              "3588  2018-11-16  1059.410034  1067.000000  ...  1061.489990  1061.489990  1658100\n",
              "3589  2018-11-19  1057.199951  1060.790039  ...  1020.000000  1020.000000  1858600\n",
              "3590  2018-11-20  1000.000000  1031.739990  ...  1025.760010  1025.760010  2449100\n",
              "3591  2018-11-21  1036.760010  1048.560059  ...  1037.609985  1037.609985  1534300\n",
              "3592  2018-11-23  1030.000000  1037.589966  ...  1023.880005  1023.880005   691500\n",
              "3593  2018-11-26  1038.349976  1049.310059  ...  1048.619995  1048.619995  1942800\n",
              "3594  2018-11-27  1041.000000  1057.579956  ...  1044.410034  1044.410034  1803200\n",
              "3595  2018-11-28  1048.760010  1086.839966  ...  1086.229980  1086.229980  2475400\n",
              "3596  2018-11-29  1076.079956  1094.244995  ...  1088.300049  1088.300049  1468900\n",
              "3597  2018-11-30  1089.069946  1095.569946  ...  1094.430054  1094.430054  2580200\n",
              "3598  2018-12-03  1123.140015  1124.650024  ...  1106.430054  1106.430054  1991200\n",
              "3599  2018-12-04  1103.119995  1104.420044  ...  1050.819946  1050.819946  2345200\n",
              "3600  2018-12-06  1034.260010  1071.199951  ...  1068.729980  1068.729980  2769200\n",
              "3601  2018-12-07  1060.010010  1075.260010  ...  1036.579956  1036.579956  2101200\n",
              "3602  2018-12-10  1035.050049  1048.449951  ...  1039.550049  1039.550049  1807700\n",
              "3603  2018-12-11  1056.489990  1060.599976  ...  1051.750000  1051.750000  1394700\n",
              "3604  2018-12-12  1068.000000  1081.650024  ...  1063.680054  1063.680054  1523800\n",
              "3605  2018-12-13  1068.069946  1079.760010  ...  1061.900024  1061.900024  1329800\n",
              "3606  2018-12-14  1049.979980  1062.599976  ...  1042.099976  1042.099976  1686600\n",
              "3607  2018-12-17  1037.510010  1053.150024  ...  1016.530029  1016.530029  2385400\n",
              "3608  2018-12-18  1026.089966  1049.479980  ...  1028.709961  1028.709961  2192500\n",
              "3609  2018-12-19  1033.989990  1062.000000  ...  1023.010010  1023.010010  2479300\n",
              "3610  2018-12-20  1018.130005  1034.219971  ...  1009.409973  1009.409973  2673500\n",
              "3611  2018-12-21  1015.299988  1024.020020  ...   979.539978   979.539978  4596000\n",
              "3612  2018-12-24   973.900024  1003.539978  ...   976.219971   976.219971  1590300\n",
              "3613  2018-12-26   989.010010  1040.000000  ...  1039.459961  1039.459961  2373300\n",
              "3614  2018-12-27  1017.150024  1043.890015  ...  1043.880005  1043.880005  2109800\n",
              "3615  2018-12-28  1049.619995  1055.560059  ...  1037.079956  1037.079956  1414800\n",
              "3616  2018-12-31  1050.959961  1052.699951  ...  1035.609985  1035.609985  1493300\n",
              "\n",
              "[60 rows x 7 columns]"
            ]
          },
          "metadata": {
            "tags": []
          },
          "execution_count": 17
        }
      ]
    },
    {
      "cell_type": "code",
      "metadata": {
        "id": "xsOCHgiTU-ww",
        "colab_type": "code",
        "colab": {}
      },
      "source": [
        "past_60_days = data_training.tail(60)"
      ],
      "execution_count": 0,
      "outputs": []
    },
    {
      "cell_type": "code",
      "metadata": {
        "id": "FPk-Oy6CU-tq",
        "colab_type": "code",
        "outputId": "522840bf-8092-4c55-96bb-98a3b90be4e2",
        "colab": {
          "base_uri": "https://localhost:8080/",
          "height": 204
        }
      },
      "source": [
        "df = past_60_days.append(data_test, ignore_index = True)\n",
        "df = df.drop(['Date', 'Adj Close'], axis = 1)\n",
        "df.head()"
      ],
      "execution_count": 19,
      "outputs": [
        {
          "output_type": "execute_result",
          "data": {
            "text/html": [
              "<div>\n",
              "<style scoped>\n",
              "    .dataframe tbody tr th:only-of-type {\n",
              "        vertical-align: middle;\n",
              "    }\n",
              "\n",
              "    .dataframe tbody tr th {\n",
              "        vertical-align: top;\n",
              "    }\n",
              "\n",
              "    .dataframe thead th {\n",
              "        text-align: right;\n",
              "    }\n",
              "</style>\n",
              "<table border=\"1\" class=\"dataframe\">\n",
              "  <thead>\n",
              "    <tr style=\"text-align: right;\">\n",
              "      <th></th>\n",
              "      <th>Open</th>\n",
              "      <th>High</th>\n",
              "      <th>Low</th>\n",
              "      <th>Close</th>\n",
              "      <th>Volume</th>\n",
              "    </tr>\n",
              "  </thead>\n",
              "  <tbody>\n",
              "    <tr>\n",
              "      <th>0</th>\n",
              "      <td>1195.329956</td>\n",
              "      <td>1197.510010</td>\n",
              "      <td>1155.576050</td>\n",
              "      <td>1168.189941</td>\n",
              "      <td>2209500</td>\n",
              "    </tr>\n",
              "    <tr>\n",
              "      <th>1</th>\n",
              "      <td>1167.500000</td>\n",
              "      <td>1173.500000</td>\n",
              "      <td>1145.119995</td>\n",
              "      <td>1157.349976</td>\n",
              "      <td>1184300</td>\n",
              "    </tr>\n",
              "    <tr>\n",
              "      <th>2</th>\n",
              "      <td>1150.109985</td>\n",
              "      <td>1168.000000</td>\n",
              "      <td>1127.364014</td>\n",
              "      <td>1148.969971</td>\n",
              "      <td>1932400</td>\n",
              "    </tr>\n",
              "    <tr>\n",
              "      <th>3</th>\n",
              "      <td>1146.150024</td>\n",
              "      <td>1154.349976</td>\n",
              "      <td>1137.572021</td>\n",
              "      <td>1138.819946</td>\n",
              "      <td>1308700</td>\n",
              "    </tr>\n",
              "    <tr>\n",
              "      <th>4</th>\n",
              "      <td>1131.079956</td>\n",
              "      <td>1132.170044</td>\n",
              "      <td>1081.130005</td>\n",
              "      <td>1081.219971</td>\n",
              "      <td>2675700</td>\n",
              "    </tr>\n",
              "  </tbody>\n",
              "</table>\n",
              "</div>"
            ],
            "text/plain": [
              "          Open         High          Low        Close   Volume\n",
              "0  1195.329956  1197.510010  1155.576050  1168.189941  2209500\n",
              "1  1167.500000  1173.500000  1145.119995  1157.349976  1184300\n",
              "2  1150.109985  1168.000000  1127.364014  1148.969971  1932400\n",
              "3  1146.150024  1154.349976  1137.572021  1138.819946  1308700\n",
              "4  1131.079956  1132.170044  1081.130005  1081.219971  2675700"
            ]
          },
          "metadata": {
            "tags": []
          },
          "execution_count": 19
        }
      ]
    },
    {
      "cell_type": "code",
      "metadata": {
        "id": "AsCbDH2OU-qY",
        "colab_type": "code",
        "outputId": "3d1249c4-6ecc-4b03-971e-7bf4a6cdf442",
        "colab": {
          "base_uri": "https://localhost:8080/",
          "height": 136
        }
      },
      "source": [
        "inputs = scaler.transform(df)\n",
        "inputs"
      ],
      "execution_count": 20,
      "outputs": [
        {
          "output_type": "execute_result",
          "data": {
            "text/plain": [
              "array([[0.93805611, 0.93755773, 0.92220906, 0.91781776, 0.0266752 ],\n",
              "       [0.91527437, 0.91792904, 0.91350452, 0.90892169, 0.01425359],\n",
              "       [0.90103881, 0.91343268, 0.89872289, 0.90204445, 0.02331778],\n",
              "       ...,\n",
              "       [0.94071658, 0.95185617, 0.956977  , 0.9510387 , 0.01016192],\n",
              "       [0.96006022, 0.96280279, 0.97062981, 0.95660279, 0.01532467],\n",
              "       [0.9519806 , 0.96111865, 0.96898151, 0.95798978, 0.01041515]])"
            ]
          },
          "metadata": {
            "tags": []
          },
          "execution_count": 20
        }
      ]
    },
    {
      "cell_type": "code",
      "metadata": {
        "id": "gzxft2hLU-oA",
        "colab_type": "code",
        "colab": {}
      },
      "source": [
        "X_test = []\n",
        "y_test = []\n",
        "\n",
        "for i in range(60, inputs.shape[0]):\n",
        "    X_test.append(inputs[i-60:i])\n",
        "    y_test.append(inputs[i, 0])"
      ],
      "execution_count": 0,
      "outputs": []
    },
    {
      "cell_type": "code",
      "metadata": {
        "id": "pyUW8NNdPR6P",
        "colab_type": "code",
        "outputId": "379f14b4-9b56-4d66-a577-a4ffaf27a21d",
        "colab": {
          "base_uri": "https://localhost:8080/",
          "height": 34
        }
      },
      "source": [
        "X_test, y_test = np.array(X_test), np.array(y_test)\n",
        "X_test.shape, y_test.shape"
      ],
      "execution_count": 22,
      "outputs": [
        {
          "output_type": "execute_result",
          "data": {
            "text/plain": [
              "((198, 60, 5), (198,))"
            ]
          },
          "metadata": {
            "tags": []
          },
          "execution_count": 22
        }
      ]
    },
    {
      "cell_type": "code",
      "metadata": {
        "id": "_msGd3-9PR4X",
        "colab_type": "code",
        "colab": {}
      },
      "source": [
        "y_pred = regressor.predict(X_test)"
      ],
      "execution_count": 0,
      "outputs": []
    },
    {
      "cell_type": "code",
      "metadata": {
        "id": "DZt9YMXwPR10",
        "colab_type": "code",
        "outputId": "4c6bb16e-c8fd-494b-8a98-91c92fc1cf50",
        "colab": {
          "base_uri": "https://localhost:8080/",
          "height": 51
        }
      },
      "source": [
        "scaler.scale_"
      ],
      "execution_count": 24,
      "outputs": [
        {
          "output_type": "execute_result",
          "data": {
            "text/plain": [
              "array([8.18605127e-04, 8.17521128e-04, 8.32487534e-04, 8.20673293e-04,\n",
              "       1.21162775e-08])"
            ]
          },
          "metadata": {
            "tags": []
          },
          "execution_count": 24
        }
      ]
    },
    {
      "cell_type": "code",
      "metadata": {
        "id": "MemSssjJPfko",
        "colab_type": "code",
        "outputId": "64af6566-23dc-469d-d4ab-946081c32896",
        "colab": {
          "base_uri": "https://localhost:8080/",
          "height": 34
        }
      },
      "source": [
        "scale = 1/8.18605127e-04\n",
        "scale"
      ],
      "execution_count": 25,
      "outputs": [
        {
          "output_type": "execute_result",
          "data": {
            "text/plain": [
              "1221.5901990069017"
            ]
          },
          "metadata": {
            "tags": []
          },
          "execution_count": 25
        }
      ]
    },
    {
      "cell_type": "code",
      "metadata": {
        "id": "YTsRl7AZPfjD",
        "colab_type": "code",
        "colab": {}
      },
      "source": [
        "y_pred = y_pred*scale\n",
        "y_test = y_test*scale"
      ],
      "execution_count": 0,
      "outputs": []
    },
    {
      "cell_type": "code",
      "metadata": {
        "id": "nwt5fouAPfgy",
        "colab_type": "code",
        "colab": {}
      },
      "source": [
        ""
      ],
      "execution_count": 0,
      "outputs": []
    },
    {
      "cell_type": "markdown",
      "metadata": {
        "id": "dvLMvGlzPkAb",
        "colab_type": "text"
      },
      "source": [
        "# Visualizaton of Results"
      ]
    },
    {
      "cell_type": "code",
      "metadata": {
        "id": "jus5vFOjPfd2",
        "colab_type": "code",
        "outputId": "0dae5ce9-3293-48db-82c4-ee84b27bf953",
        "colab": {
          "base_uri": "https://localhost:8080/",
          "height": 350
        }
      },
      "source": [
        "# Visualising the results\n",
        "plt.figure(figsize=(14,5))\n",
        "plt.plot(y_test, color = 'red', label = 'Real Google Stock Price')\n",
        "plt.plot(y_pred, color = 'blue', label = 'Predicted Google Stock Price')\n",
        "plt.title('Google Stock Price Prediction')\n",
        "plt.xlabel('Time')\n",
        "plt.ylabel('Google Stock Price')\n",
        "plt.legend()\n",
        "plt.show()"
      ],
      "execution_count": 27,
      "outputs": [
        {
          "output_type": "display_data",
          "data": {
            "image/png": "[encoded data removed]",
            "text/plain": [
              "<Figure size 1008x360 with 1 Axes>"
            ]
          },
          "metadata": {
            "tags": []
          }
        }
      ]
    },
    {
      "cell_type": "code",
      "metadata": {
        "id": "GF4ozeioPfbp",
        "colab_type": "code",
        "colab": {}
      },
      "source": [
        ""
      ],
      "execution_count": 0,
      "outputs": []
    },
    {
      "cell_type": "code",
      "metadata": {
        "id": "t4eK2-1TPfZ0",
        "colab_type": "code",
        "colab": {}
      },
      "source": [
        ""
      ],
      "execution_count": 0,
      "outputs": []
    },
    {
      "cell_type": "code",
      "metadata": {
        "id": "EiJ_HFMCPfU9",
        "colab_type": "code",
        "colab": {}
      },
      "source": [
        ""
      ],
      "execution_count": 0,
      "outputs": []
    }
  ]
}